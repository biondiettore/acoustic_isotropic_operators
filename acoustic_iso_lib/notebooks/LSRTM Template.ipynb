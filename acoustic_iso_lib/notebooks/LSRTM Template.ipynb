{
 "cells": [
  {
   "cell_type": "markdown",
   "metadata": {},
   "source": [
    "# LSRTM template"
   ]
  },
  {
   "cell_type": "markdown",
   "metadata": {},
   "source": [
    "## Import modules"
   ]
  },
  {
   "cell_type": "code",
   "execution_count": 1,
   "metadata": {},
   "outputs": [],
   "source": [
    "# Basic stuff\n",
    "import sys\n",
    "sys.path.append(\"/net/server/homes/sep/gbarnier/code/gpu/acousticIsoOp/test/lib/python/\")\n",
    "import genericIO\n",
    "import SepVector\n",
    "import Hypercube\n",
    "import Acoustic_iso_double\n",
    "import numpy as np\n",
    "import time\n",
    "\n",
    "# Solver library\n",
    "import pyLCGsolver as LCG\n",
    "import pyProblem as Prblm\n",
    "import pyStopperBase as Stopper\n",
    "from sys_util import logger\n",
    "\n",
    "# Plotting library\n",
    "import matplotlib.pyplot as plt\n",
    "import sepPlot"
   ]
  },
  {
   "cell_type": "markdown",
   "metadata": {},
   "source": [
    "## Wavelet"
   ]
  },
  {
   "cell_type": "code",
   "execution_count": 2,
   "metadata": {},
   "outputs": [],
   "source": [
    "!Wavelet n1=1000 d1=0.008 fund=6. tdelay=1.0 wavelet=ricker2 | Add scale=-1.0 > wlt.H\n",
    "# !Spectra < wlt.H | Graph grid=y max1=30 | Xtpen "
   ]
  },
  {
   "cell_type": "markdown",
   "metadata": {},
   "source": [
    "## Velocity models"
   ]
  },
  {
   "cell_type": "code",
   "execution_count": 3,
   "metadata": {},
   "outputs": [
    {
     "name": "stdout",
     "output_type": "stream",
     "text": [
      " \n",
      "------------------------ Model padding program --------------------\n",
      "Original nz = 350 [samples]\n",
      "Original nx = 1700 [samples]\n",
      " \n",
      "zPadMinus = 100 [samples]\n",
      "zPadPlus = 110 [samples]\n",
      "xPadMinus = 100 [samples]\n",
      "xPadPlus = 104 [samples]\n",
      " \n",
      "blockSize = 16 [samples]\n",
      "FAT = 5 [samples]\n",
      " \n",
      "New nz = 570 [samples including padding and FAT]\n",
      "New nx = 1914 [samples including padding and FAT]\n",
      "-------------------------------------------------------------------\n",
      " \n",
      " \n",
      "------------------------ Model padding program --------------------\n",
      "Original nz = 350 [samples]\n",
      "Original nx = 1700 [samples]\n",
      " \n",
      "zPadMinus = 100 [samples]\n",
      "zPadPlus = 110 [samples]\n",
      "xPadMinus = 100 [samples]\n",
      "xPadPlus = 104 [samples]\n",
      " \n",
      "blockSize = 16 [samples]\n",
      "FAT = 5 [samples]\n",
      " \n",
      "New nz = 570 [samples including padding and FAT]\n",
      "New nx = 1914 [samples including padding and FAT]\n",
      "-------------------------------------------------------------------\n",
      " \n",
      " \n",
      "------------------------ Model padding program --------------------\n",
      "Original nz = 350 [samples]\n",
      "Original nx = 1700 [samples]\n",
      " \n",
      "zPadMinus = 100 [samples]\n",
      "zPadPlus = 110 [samples]\n",
      "xPadMinus = 100 [samples]\n",
      "xPadPlus = 104 [samples]\n",
      " \n",
      "blockSize = 16 [samples]\n",
      "FAT = 5 [samples]\n",
      " \n",
      "New nz = 570 [samples including padding and FAT]\n",
      "New nx = 1914 [samples including padding and FAT]\n",
      "-------------------------------------------------------------------\n",
      " \n"
     ]
    }
   ],
   "source": [
    "# True velocity model\n",
    "!/net/server/homes/sep/gbarnier/code/gpu/acousticIsoOp/test/bin/padFileGpuMain zPad=100 xPad=100 model=velocityMarmousi.H data=velocityMarmousi.pad.H\n",
    "\n",
    "# Background velocity model\n",
    "!Smooth rect1=5 rect2=5 < velocityMarmousi.H > velocityMarmousiStart.H\n",
    "!/net/server/homes/sep/gbarnier/code/gpu/acousticIsoOp/test/bin/padFileGpuMain zPad=100 xPad=100 model=velocityMarmousiStart.H data=velocityMarmousiStart.pad.H\n",
    "\n",
    "# True reflectivity \n",
    "!Add velocityMarmousi.H velocityMarmousiStart.H scale=1,-1 > reflectivityTrue.H\n",
    "!/net/server/homes/sep/gbarnier/code/gpu/acousticIsoOp/test/bin/padFileGpuMain zPad=100 xPad=100 model=reflectivityTrue.H data=reflectivityTrue.pad.H\n",
    "\n",
    "# Starting reflectiviy\n",
    "!Add reflectivityTrue.pad.H scale=0 > modelStartLsrtm.pad.H"
   ]
  },
  {
   "cell_type": "markdown",
   "metadata": {},
   "source": [
    "## Generate data"
   ]
  },
  {
   "cell_type": "markdown",
   "metadata": {},
   "source": [
    "### Initialize nonlinear operator"
   ]
  },
  {
   "cell_type": "code",
   "execution_count": 4,
   "metadata": {},
   "outputs": [
    {
     "name": "stdout",
     "output_type": "stream",
     "text": [
      "nts=1000\r\n",
      "dts=0.008\r\n",
      "sub=8\r\n",
      "nz=570\r\n",
      "nx=1914\r\n",
      "zPadMinus=100\r\n",
      "zPadPlus=110\r\n",
      "xPadMinus=100\r\n",
      "xPadPlus=104\r\n",
      "dz=0.01\r\n",
      "dx=0.01\r\n",
      "fMax=20\r\n",
      "zSource=10\r\n",
      "xSource=850\r\n",
      "nShot=1\r\n",
      "spacingShots=1\r\n",
      "depthReceiver=10\r\n",
      "nReceiver=1700\r\n",
      "dReceiver=1\r\n",
      "oReceiver=1\r\n",
      "saveWavefield=0\r\n",
      "wavefieldShotNumber=0\r\n",
      "blockSize=16\r\n",
      "fat=5\r\n",
      "nGpu=8\r\n"
     ]
    }
   ],
   "source": [
    "# Note: you need a \"dummy arg\" for the first argument to replace what would be the executable\n",
    "args=[\"dummy arg\",\"vel=velocityMarmousi.pad.H\",\"model=wlt.H\",\"par=parPythonTest.p\",\"sources=wlt.H\",\"nGpu=1\"]\n",
    "modelDouble,dataDouble,velDouble,parObject,sourcesVector,receiversVector=Acoustic_iso_double.nonlinearOpInitDouble(args)\n",
    "\n",
    "# Printing parameter file for reference\n",
    "!cat parPythonTest.p"
   ]
  },
  {
   "cell_type": "markdown",
   "metadata": {},
   "source": [
    "### Create nonlinear object"
   ]
  },
  {
   "cell_type": "code",
   "execution_count": 5,
   "metadata": {},
   "outputs": [],
   "source": [
    "nonlinearOp=Acoustic_iso_double.nonlinearPropShotsGpu(modelDouble,dataDouble,velDouble,parObject,sourcesVector,receiversVector)"
   ]
  },
  {
   "cell_type": "markdown",
   "metadata": {},
   "source": [
    "### Read wavelet"
   ]
  },
  {
   "cell_type": "code",
   "execution_count": 6,
   "metadata": {},
   "outputs": [],
   "source": [
    "modelFile=parObject.getString(\"sources\")\n",
    "modelFloat=genericIO.defaultIO.getVector(modelFile,ndims=3)\n",
    "modelDMat=modelDouble.getNdArray()\n",
    "modelSMat=modelFloat.getNdArray()\n",
    "modelDMat[:]=modelSMat"
   ]
  },
  {
   "cell_type": "markdown",
   "metadata": {},
   "source": [
    "### Nonlinear forward (generate seismic data)"
   ]
  },
  {
   "cell_type": "code",
   "execution_count": 7,
   "metadata": {},
   "outputs": [
    {
     "name": "stdout",
     "output_type": "stream",
     "text": [
      "Deallocating fwd\n"
     ]
    }
   ],
   "source": [
    "# Conventional nonlinear operator\n",
    "nonlinearOp.forward(False,modelDouble,dataDouble);"
   ]
  },
  {
   "cell_type": "markdown",
   "metadata": {},
   "source": [
    "### Plot data"
   ]
  },
  {
   "cell_type": "code",
   "execution_count": 8,
   "metadata": {},
   "outputs": [
    {
     "data": {
      "image/png": "[encoded data removed]",
      "text/plain": [
       "<matplotlib.figure.Figure at 0x7eff9edd5eb8>"
      ]
     },
     "metadata": {},
     "output_type": "display_data"
    }
   ],
   "source": [
    "# Convert data to 2D float \n",
    "dataFloat2D=SepVector.getSepVector(Hypercube.hypercube(axes=[dataDouble.getHyper().axes[0],dataDouble.getHyper().axes[1]]))\n",
    "dataFloat2DNd=dataFloat2D.getNdArray()\n",
    "dataDoubleNd=dataDouble.getNdArray()\n",
    "dataFloat2DNd[:]=dataDoubleNd\n",
    "\n",
    "# Plot forward\n",
    "sepPlot.Grey(plt,dataFloat2D,label1=\"Time [s]\",label2=\"Receivers [km]\",title=\"Seismic data\").output()"
   ]
  },
  {
   "cell_type": "markdown",
   "metadata": {},
   "source": [
    "# Run inversion"
   ]
  },
  {
   "cell_type": "markdown",
   "metadata": {},
   "source": [
    "### Read starting model"
   ]
  },
  {
   "cell_type": "code",
   "execution_count": 9,
   "metadata": {},
   "outputs": [],
   "source": [
    "# Read starting velocity model\n",
    "modelStartLsrtmFloat=genericIO.defaultIO.getVector(\"modelStartLsrtm.pad.H\",ndims=2)\n",
    "modelStartLsrtmFloatNd=modelStartLsrtmFloat.getNdArray()\n",
    "\n",
    "# Convert to double\n",
    "modelStartLsrtmDouble=SepVector.getSepVector(modelStartLsrtmFloat.getHyper(),storage=\"dataDouble\")\n",
    "modelStartLsrtmDoubleNd=modelStartLsrtmDouble.getNdArray()\n",
    "modelStartLsrtmDoubleNd[:]=modelStartLsrtmFloatNd"
   ]
  },
  {
   "cell_type": "markdown",
   "metadata": {},
   "source": [
    "### Initialize Born operator"
   ]
  },
  {
   "cell_type": "code",
   "execution_count": 10,
   "metadata": {},
   "outputs": [
    {
     "name": "stdout",
     "output_type": "stream",
     "text": [
      "nts=1000\r\n",
      "dts=0.008\r\n",
      "sub=8\r\n",
      "nz=570\r\n",
      "nx=1914\r\n",
      "zPadMinus=100\r\n",
      "zPadPlus=110\r\n",
      "xPadMinus=100\r\n",
      "xPadPlus=104\r\n",
      "dz=0.01\r\n",
      "dx=0.01\r\n",
      "fMax=20\r\n",
      "zSource=10\r\n",
      "xSource=850\r\n",
      "nShot=1\r\n",
      "spacingShots=1\r\n",
      "depthReceiver=10\r\n",
      "nReceiver=1700\r\n",
      "dReceiver=1\r\n",
      "oReceiver=1\r\n",
      "saveWavefield=0\r\n",
      "wavefieldShotNumber=0\r\n",
      "blockSize=16\r\n",
      "fat=5\r\n",
      "nGpu=8\r\n"
     ]
    }
   ],
   "source": [
    "args=[\"dummy arg\",\"vel=velocityMarmousiStart.pad.H\",\"sources=wlt.H\",\"par=parPythonTest.p\",\"model=modelStartLsrtm.pad.H\"]\n",
    "modelDouble,dataDouble,velDouble,parObject,sourcesVector,sourcesSignalsVector,receiversVector=Acoustic_iso_double.BornOpInitDouble(args)\n",
    "\n",
    "# Printing parameter file for reference\n",
    "!cat parPythonTest.p"
   ]
  },
  {
   "cell_type": "markdown",
   "metadata": {},
   "source": [
    "### Create Born operator"
   ]
  },
  {
   "cell_type": "code",
   "execution_count": 19,
   "metadata": {},
   "outputs": [],
   "source": [
    "BornOp=Acoustic_iso_double.BornShotsGpu(modelDouble,dataDouble,velDouble,parObject,sourcesVector,sourcesSignalsVector,receiversVector)"
   ]
  },
  {
   "cell_type": "markdown",
   "metadata": {},
   "source": [
    "### Construct FWI problem"
   ]
  },
  {
   "cell_type": "code",
   "execution_count": 23,
   "metadata": {},
   "outputs": [],
   "source": [
    "# Create L2-norm linear problem\n",
    "model_vec=modelStartLsrtmDouble.clone()\n",
    "model_vec.zero()\n",
    "L2Prob=Prblm.ProblemL2Linear(model_vec,dataDouble,BornOp)\n",
    "\n",
    "# Create stopper\n",
    "niter=10\n",
    "Stop=Stopper.BasicStopper(niter=niter)\n",
    "\n",
    "# # Create solver\n",
    "LCGsolver=LCG.LCGsolver(Stop,logger=logger(\"test.log\"))\n",
    "LCGsolver.setDefaults(iter_buffer=None,iter_sampling=1)\n",
    "\n",
    "# # Run solver\n",
    "# LCGsolver.run(L2Prob)"
   ]
  },
  {
   "cell_type": "code",
   "execution_count": null,
   "metadata": {},
   "outputs": [],
   "source": []
  }
 ],
 "metadata": {
  "kernelspec": {
   "display_name": "Python 3",
   "language": "python",
   "name": "python3"
  },
  "language_info": {
   "codemirror_mode": {
    "name": "ipython",
    "version": 3
   },
   "file_extension": ".py",
   "mimetype": "text/x-python",
   "name": "python",
   "nbconvert_exporter": "python",
   "pygments_lexer": "ipython3",
   "version": "3.5.2"
  }
 },
 "nbformat": 4,
 "nbformat_minor": 2
}
