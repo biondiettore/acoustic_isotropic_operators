{
 "cells": [
  {
   "cell_type": "markdown",
   "metadata": {},
   "source": [
    "Import necessary modules"
   ]
  },
  {
   "cell_type": "code",
   "execution_count": 1,
   "metadata": {},
   "outputs": [],
   "source": [
    "import sys\n",
    "sys.path.append(\"/net/server/homes/sep/ettore/research/packages/acoustic_isotropic_operators/test/lib/python/\")\n",
    "import genericIO\n",
    "import SepVector\n",
    "import Hypercube\n",
    "import Acoustic_iso_double\n",
    "import numpy as np\n",
    "import time"
   ]
  },
  {
   "cell_type": "markdown",
   "metadata": {},
   "source": [
    "Create wavelet and velocity model"
   ]
  },
  {
   "cell_type": "code",
   "execution_count": 2,
   "metadata": {},
   "outputs": [],
   "source": [
    "!Wavelet n1=1001 d1=0.004 fund=10. tdelay=1. wavelet=ricker2 | Add scale=-1. > wlt.H"
   ]
  },
  {
   "cell_type": "code",
   "execution_count": 3,
   "metadata": {},
   "outputs": [],
   "source": [
    "!Vel n1=560 d1=0.01 o1=0.0 n2=1904 d2=0.01 o2=0.0 n3=1 d3=0.01 o3=0.0 vc=2.0 | Pad beg1=5 end1=5 beg2=5 end2=5 > vel.H"
   ]
  },
  {
   "cell_type": "markdown",
   "metadata": {},
   "source": [
    "Now lets start up genericIO read the files into memory"
   ]
  },
  {
   "cell_type": "code",
   "execution_count": 4,
   "metadata": {},
   "outputs": [],
   "source": [
    "wavelet=genericIO.defaultIO.getVector(\"wlt.H\")"
   ]
  },
  {
   "cell_type": "code",
   "execution_count": 5,
   "metadata": {},
   "outputs": [],
   "source": [
    "velocity=genericIO.defaultIO.getVector(\"vel.H\")"
   ]
  },
  {
   "cell_type": "markdown",
   "metadata": {},
   "source": [
    "Lets make sure we've got got something reasonable\n"
   ]
  },
  {
   "cell_type": "code",
   "execution_count": 6,
   "metadata": {},
   "outputs": [
    {
     "name": "stdout",
     "output_type": "stream",
     "text": [
      "0.0\n"
     ]
    },
    {
     "data": {
      "image/png": "[encoded data removed]",
      "text/plain": [
       "<matplotlib.figure.Figure at 0x7f71a72c3c88>"
      ]
     },
     "metadata": {},
     "output_type": "display_data"
    }
   ],
   "source": [
    "%matplotlib inline  \n",
    "import matplotlib.pyplot as plt\n",
    "\n",
    "print(velocity.getNdArray().min())\n",
    "plt.imshow(velocity.getNdArray());"
   ]
  },
  {
   "cell_type": "code",
   "execution_count": 7,
   "metadata": {},
   "outputs": [],
   "source": [
    "params={\n",
    "\"nts\":1001,\n",
    "\"dts\":0.004,\n",
    "\"sub\":4,\n",
    "\"nz\":570,\n",
    "\"nx\":1914,\n",
    "\"zPadMinus\":100,\n",
    "\"zPadPlus\":110,\n",
    "\"xPadMinus\":100,\n",
    "\"xPadPlus\":104,\n",
    "\"dz\":0.01,\n",
    "\"dx\":0.01,\n",
    "\"fMax\":16,\n",
    "\"zSource\":10,\n",
    "\"xSource\":850,\n",
    "\"nShot\":1,\n",
    "\"spacingShots\":1,\n",
    "\"depthReceiver\":10,\n",
    "\"nReceiver\":1700,\n",
    "\"dReceiver\":1,\n",
    "\"oReceiver\":1,\n",
    "\"saveWavefield\":0,\n",
    "\"wavefieldShotNumber\":0,\n",
    "\"blockSize\":16,\n",
    "\"fat\":5,\n",
    "\"nGpu\":8}"
   ]
  },
  {
   "cell_type": "markdown",
   "metadata": {},
   "source": [
    "Converting the velocity into double."
   ]
  },
  {
   "cell_type": "code",
   "execution_count": 8,
   "metadata": {},
   "outputs": [],
   "source": [
    "hyper=velocity.getHyper()\n",
    "velDouble=SepVector.getSepVector(hyper,storage=\"dataDouble\")\n",
    "velDMat=velDouble.getNdArray()\n",
    "velSMat=velocity.getNdArray()\n",
    "\n",
    "for i2 in range(hyper.axes[1].n):\n",
    "    for i1 in range(hyper.axes[0].n):\n",
    "        velDMat[i2][i1]=velSMat[i2][i1]\n"
   ]
  },
  {
   "cell_type": "markdown",
   "metadata": {},
   "source": [
    "Creating source vector"
   ]
  },
  {
   "cell_type": "code",
   "execution_count": 9,
   "metadata": {},
   "outputs": [],
   "source": [
    "nzSource = 1;\n",
    "ozSource =params[\"zSource\"] - 1 + params[\"zPadMinus\"] + params[\"fat\"];\n",
    "dzSource = 1;\n",
    "nxSource = 1;\n",
    "oxSource =params[\"xSource\"] - 1 + params[\"xPadMinus\"] + params[\"fat\"];\n",
    "dxSource = 1;\n",
    "spacingShots = params[\"spacingShots\"]\n",
    "sourceVector=[]\n",
    "for ishot in range(params[\"nShot\"]):\n",
    "    sourceVector.append(Acoustic_iso_double.deviceGpu(nzSource, ozSource, dzSource, nxSource, oxSource, dxSource, velDouble.getCpp(), params[\"nts\"]))\n",
    "    oxSource = oxSource + spacingShots;"
   ]
  },
  {
   "cell_type": "markdown",
   "metadata": {},
   "source": [
    "Creating receiver vector"
   ]
  },
  {
   "cell_type": "code",
   "execution_count": 10,
   "metadata": {},
   "outputs": [],
   "source": [
    "nzReceiver = 1;\n",
    "ozReceiver = params[\"depthReceiver\"] - 1 + params[\"zPadMinus\"] + params[\"fat\"];\n",
    "dzReceiver = 1;\n",
    "nxReceiver = params[\"nReceiver\"]\n",
    "oxReceiver = params[\"oReceiver\"] - 1 + params[\"xPadMinus\"] + params[\"fat\"];\n",
    "dxReceiver = params[\"dReceiver\"];\n",
    "                    \n",
    "receiversVector=[]\n",
    "nRecGeom = 1;# Constant receivers' geometry\n",
    "for iRec in range(nRecGeom):\n",
    "    receiversVector.append(Acoustic_iso_double.deviceGpu(nzReceiver, ozReceiver, dzReceiver, nxReceiver, oxReceiver, dxReceiver, velDouble.getCpp(), params[\"nts\"]))\n"
   ]
  },
  {
   "cell_type": "markdown",
   "metadata": {},
   "source": [
    "Convert the wavelet to double and convert it into 3DHyper"
   ]
  },
  {
   "cell_type": "code",
   "execution_count": 11,
   "metadata": {},
   "outputs": [],
   "source": [
    "hyperTAxis=wavelet.getHyper().axes[0]\n",
    "dumbAxis=Hypercube.axis(n=1)\n",
    "modelHyper=Hypercube.hypercube(axes=[hyperTAxis,dumbAxis,dumbAxis])\n",
    "waveletD=SepVector.getSepVector(modelHyper,storage=\"dataDouble\")\n",
    "waveDMat=waveletD.getNdArray()\n",
    "waveSMat=wavelet.getNdArray()\n",
    "\n",
    "for i1 in range(hyperTAxis.n):\n",
    "    waveDMat[0][0][i1]=waveSMat[i1]"
   ]
  },
  {
   "cell_type": "markdown",
   "metadata": {},
   "source": [
    "Now let's setup the data"
   ]
  },
  {
   "cell_type": "code",
   "execution_count": 12,
   "metadata": {},
   "outputs": [],
   "source": [
    "receiverAxis=Hypercube.axis(n=nxReceiver, o=oxReceiver, d=dxReceiver)\n",
    "sourceAxis=Hypercube.axis(n=params[\"nShot\"], o=oxSource, d=dxSource)\n",
    "dataD=SepVector.getSepVector(Hypercube.hypercube(axes=[hyperTAxis,receiverAxis,sourceAxis]),storage=\"dataDouble\")\n",
    "data=SepVector.getSepVector(Hypercube.hypercube(axes=[hyperTAxis,receiverAxis,sourceAxis]),storage=\"dataFloat\")"
   ]
  },
  {
   "cell_type": "markdown",
   "metadata": {},
   "source": [
    "We will use a dictionary for all the other parameters that might be needed."
   ]
  },
  {
   "cell_type": "code",
   "execution_count": 13,
   "metadata": {},
   "outputs": [],
   "source": [
    "paramP=genericIO.pythonParams(params)"
   ]
  },
  {
   "cell_type": "markdown",
   "metadata": {},
   "source": [
    "Create simulation object"
   ]
  },
  {
   "cell_type": "code",
   "execution_count": 14,
   "metadata": {},
   "outputs": [],
   "source": [
    "propagator=Acoustic_iso_double.nonlinearPropShotsGpu(waveletD,dataD,velDouble,paramP,sourceVector,receiversVector)"
   ]
  },
  {
   "cell_type": "code",
   "execution_count": 15,
   "metadata": {},
   "outputs": [
    {
     "name": "stdout",
     "output_type": "stream",
     "text": [
      "duration: 0.313226\n",
      "3.918272018432617\n"
     ]
    }
   ],
   "source": [
    "t0 = time.time()\n",
    "propagator.forward(False, waveletD, dataD);\n",
    "t1 = time.time()\n",
    "\n",
    "total = t1-t0\n",
    "print(total)"
   ]
  },
  {
   "cell_type": "markdown",
   "metadata": {},
   "source": [
    "Plotting data"
   ]
  },
  {
   "cell_type": "code",
   "execution_count": 16,
   "metadata": {},
   "outputs": [
    {
     "data": {
      "image/png": "[encoded data removed]",
      "text/plain": [
       "<matplotlib.figure.Figure at 0x7f71df366278>"
      ]
     },
     "metadata": {},
     "output_type": "display_data"
    }
   ],
   "source": [
    "%matplotlib inline  \n",
    "import matplotlib.pyplot as plt\n",
    "data = np.reshape(dataD.getNdArray()[0,:,:],(1700,1001))\n",
    "plt.imshow(data.T);"
   ]
  },
  {
   "cell_type": "markdown",
   "metadata": {},
   "source": [
    "Dot-product test of propagator operator"
   ]
  },
  {
   "cell_type": "code",
   "execution_count": 17,
   "metadata": {},
   "outputs": [
    {
     "name": "stdout",
     "output_type": "stream",
     "text": [
      "Dot-product test of forward and adjoint operators\n",
      "-------------------------------------------------\n",
      "Applying forward operator add=False\n",
      "duration: 0.307269\n",
      "\tRuns in: 0.6659801006317139 seconds\n",
      "Applying adjoint operator add=False\n",
      "\tRuns in: 0.5840597152709961 seconds\n",
      "Dot products add=False: domain=-0.00016822625057346334 range=-0.00016822625057346264 \n",
      "Absolute error: 7.047314121155779e-19\n",
      "Relative error: 4.189188130349663e-15 \n",
      "\n",
      "\n",
      "Applying forward operator add=True\n",
      "duration: 0.307099\n",
      "\tRuns in: 0.6363191604614258 seconds\n",
      "Applying adjoint operator add=True\n",
      "\tRuns in: 0.596015453338623 seconds\n",
      "Dot products add=True: domain=-0.000336452501146927 range=-0.0003364525011469251 \n",
      "Absolute error: 1.8973538018496328e-18\n",
      "Relative error: 5.639291713932241e-15 \n",
      "\n",
      "-------------------------------------------------\n"
     ]
    }
   ],
   "source": [
    "propagator.dotTest(True)"
   ]
  },
  {
   "cell_type": "markdown",
   "metadata": {},
   "source": [
    "Testing Born operator"
   ]
  },
  {
   "cell_type": "code",
   "execution_count": 18,
   "metadata": {},
   "outputs": [],
   "source": [
    "#Converting the wavelet from a 3DReg to a list of 2DReg\n",
    "hyperTAxis=wavelet.getHyper().axes[0]\n",
    "dumbAxis=Hypercube.axis(n=1)\n",
    "modelHyper=Hypercube.hypercube(axes=[hyperTAxis,dumbAxis])\n",
    "waveletDBorn=SepVector.getSepVector(modelHyper,storage=\"dataDouble\")\n",
    "waveDBornNp=np.array(waveletDBorn.getCpp(),copy=False)\n",
    "waveDNp=np.array(waveletD.getCpp(),copy=False)\n",
    "waveDBornNp[0,:]=waveDNp[0,0,:]\n",
    "waveletDBorn=[waveletDBorn]\n",
    "\n",
    "born_op=Acoustic_iso_double.BornShotsGpu(velDouble,dataD,velDouble,paramP,sourceVector,waveletDBorn,receiversVector)"
   ]
  },
  {
   "cell_type": "code",
   "execution_count": 21,
   "metadata": {},
   "outputs": [
    {
     "name": "stdout",
     "output_type": "stream",
     "text": [
      "Dot-product test of forward and adjoint operators\n",
      "-------------------------------------------------\n",
      "Applying forward operator add=False\n",
      "\tRuns in: 1.5531418323516846 seconds\n",
      "Applying adjoint operator add=False\n",
      "\tRuns in: 2.155806303024292 seconds\n",
      "Dot products add=False: domain=-2.0344690749807844e-05 range=-2.0344690749808708e-05 \n",
      "Absolute error: 8.639736061993863e-19\n",
      "Relative error: 4.246678491328308e-14 \n",
      "\n",
      "\n",
      "Applying forward operator add=True\n",
      "\tRuns in: 1.6527676582336426 seconds\n",
      "Applying adjoint operator add=True\n",
      "\tRuns in: 2.073215961456299 seconds\n",
      "Dot products add=True: domain=-4.068938149961616e-05 range=-4.0689381499617266e-05 \n",
      "Absolute error: 1.1045309632196076e-18\n",
      "Relative error: 2.7145435062216347e-14 \n",
      "\n",
      "-------------------------------------------------\n"
     ]
    }
   ],
   "source": [
    "born_op.dotTest(True)"
   ]
  },
  {
   "cell_type": "code",
   "execution_count": null,
   "metadata": {},
   "outputs": [],
   "source": []
  }
 ],
 "metadata": {
  "kernelspec": {
   "display_name": "Python 3",
   "language": "python",
   "name": "python3"
  },
  "language_info": {
   "codemirror_mode": {
    "name": "ipython",
    "version": 3
   },
   "file_extension": ".py",
   "mimetype": "text/x-python",
   "name": "python",
   "nbconvert_exporter": "python",
   "pygments_lexer": "ipython3",
   "version": "3.5.2"
  }
 },
 "nbformat": 4,
 "nbformat_minor": 2
}
