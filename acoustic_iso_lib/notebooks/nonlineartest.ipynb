{
 "cells": [
  {
   "cell_type": "markdown",
   "metadata": {},
   "source": [
    "Import necessary modules"
   ]
  },
  {
   "cell_type": "code",
   "execution_count": 1,
   "metadata": {},
   "outputs": [],
   "source": [
    "import sys\n",
    "sys.path.append(\"/net/server/homes/sep/ettore/research/packages/acoustic_isotropic_operators/test/lib/python/\")\n",
    "import genericIO\n",
    "import SepVector\n",
    "import Hypercube\n",
    "import Acoustic_iso_double\n",
    "import numpy as np\n",
    "import time"
   ]
  },
  {
   "cell_type": "markdown",
   "metadata": {},
   "source": [
    "Create wavelet and velocity model"
   ]
  },
  {
   "cell_type": "code",
   "execution_count": 2,
   "metadata": {},
   "outputs": [],
   "source": [
    "!Wavelet n1=1001 d1=0.004 fund=10. tdelay=1. wavelet=ricker2 | Add scale=-1. > wlt.H"
   ]
  },
  {
   "cell_type": "code",
   "execution_count": 3,
   "metadata": {},
   "outputs": [],
   "source": [
    "!Vel n1=560 d1=0.01 o1=0.0 n2=1904 d2=0.01 o2=0.0 n3=1 d3=0.01 o3=0.0 vc=2.0 | Pad beg1=5 end1=5 beg2=5 end2=5 > vel.H"
   ]
  },
  {
   "cell_type": "markdown",
   "metadata": {},
   "source": [
    "Creating necessary variables for propagation\n"
   ]
  },
  {
   "cell_type": "code",
   "execution_count": 12,
   "metadata": {},
   "outputs": [
    {
     "name": "stdout",
     "output_type": "stream",
     "text": [
      "nts=1001\r\n",
      "dts=0.004\r\n",
      "sub=4\r\n",
      "nz=570\r\n",
      "nx=1914\r\n",
      "zPadMinus=100\r\n",
      "zPadPlus=110\r\n",
      "xPadMinus=100\r\n",
      "xPadPlus=104\r\n",
      "dz=0.01\r\n",
      "dx=0.01\r\n",
      "fMax=16\r\n",
      "zSource=10\r\n",
      "xSource=850\r\n",
      "nShot=50\r\n",
      "spacingShots=1\r\n",
      "depthReceiver=10\r\n",
      "nReceiver=1700\r\n",
      "dReceiver=1\r\n",
      "oReceiver=1\r\n",
      "saveWavefield=0\r\n",
      "wavefieldShotNumber=0\r\n",
      "blockSize=16\r\n",
      "fat=5\r\n",
      "nGpu=8\r\n"
     ]
    }
   ],
   "source": [
    "#Parameters for instantiating nonlinear operator\n",
    "#First argument is just a dummy one since it mimics the name of the main program (i.e., we mimic sys.argv)\n",
    "#vel = velocity model header file\n",
    "#model = wavelet header file\n",
    "#par = parameter file containing simulation information\n",
    "args=[\"dummy arg\",\"vel=vel.H\",\"model=wlt.H\",\"par=parPythonTest.p\"]\n",
    "modelDouble, dataDouble, velDouble, parObject, sourcesVector, receiversVector = Acoustic_iso_double.nonlinearOpInitDouble(args)\n",
    "#Printing parameter file for reference\n",
    "!cat parPythonTest.p\n"
   ]
  },
  {
   "cell_type": "markdown",
   "metadata": {},
   "source": [
    "Create simulation object"
   ]
  },
  {
   "cell_type": "code",
   "execution_count": 13,
   "metadata": {},
   "outputs": [],
   "source": [
    "propagator=Acoustic_iso_double.nonlinearPropShotsGpu(modelDouble,dataDouble,velDouble,parObject,sourcesVector,receiversVector)\n"
   ]
  },
  {
   "cell_type": "code",
   "execution_count": 19,
   "metadata": {},
   "outputs": [
    {
     "name": "stdout",
     "output_type": "stream",
     "text": [
      "Elapsed time =  8.405357599258423  seconds\n"
     ]
    }
   ],
   "source": [
    "t0 = time.time()\n",
    "propagator.forward(False, modelDouble, dataDouble);\n",
    "t1 = time.time()\n",
    "print(\"Elapsed time = \",t1-t0,\" seconds\")"
   ]
  },
  {
   "cell_type": "markdown",
   "metadata": {},
   "source": [
    "Plotting data"
   ]
  },
  {
   "cell_type": "code",
   "execution_count": 17,
   "metadata": {},
   "outputs": [
    {
     "data": {
      "image/png": "[encoded data removed]",
      "text/plain": [
       "<matplotlib.figure.Figure at 0x7fbef9eddf98>"
      ]
     },
     "metadata": {},
     "output_type": "display_data"
    }
   ],
   "source": [
    "%matplotlib inline  \n",
    "import matplotlib.pyplot as plt\n",
    "data = np.reshape(dataDouble.getNdArray()[0,:,:],(1700,1001))\n",
    "plt.imshow(data.T);"
   ]
  },
  {
   "cell_type": "markdown",
   "metadata": {},
   "source": [
    "Dot-product test of propagator operator"
   ]
  },
  {
   "cell_type": "code",
   "execution_count": 18,
   "metadata": {},
   "outputs": [
    {
     "name": "stdout",
     "output_type": "stream",
     "text": [
      "Dot-product test of forward and adjoint operators\n",
      "-------------------------------------------------\n",
      "Applying forward operator add=False\n",
      "\tRuns in: 6.697424650192261 seconds\n",
      "Applying adjoint operator add=False\n",
      "\tRuns in: 5.30126428604126 seconds\n",
      "Dot products add=False: domain=-0.0012325319628822737 range=-0.0012325319628821996 \n",
      "Absolute error: 7.41594285980085e-17\n",
      "Relative error: 6.016836141481579e-14 \n",
      "\n",
      "\n",
      "Applying forward operator add=True\n",
      "\tRuns in: 4.960516929626465 seconds\n",
      "Applying adjoint operator add=True\n",
      "\tRuns in: 4.128411054611206 seconds\n",
      "Dot products add=True: domain=-0.0024650639257645457 range=-0.0024650639257644495 \n",
      "Absolute error: 9.627715291671279e-17\n",
      "Relative error: 3.90566556552305e-14 \n",
      "\n",
      "-------------------------------------------------\n"
     ]
    }
   ],
   "source": [
    "propagator.dotTest(True)"
   ]
  }
 ],
 "metadata": {
  "kernelspec": {
   "display_name": "Python 3",
   "language": "python",
   "name": "python3"
  },
  "language_info": {
   "codemirror_mode": {
    "name": "ipython",
    "version": 3
   },
   "file_extension": ".py",
   "mimetype": "text/x-python",
   "name": "python",
   "nbconvert_exporter": "python",
   "pygments_lexer": "ipython3",
   "version": "3.5.2"
  }
 },
 "nbformat": 4,
 "nbformat_minor": 2
}
