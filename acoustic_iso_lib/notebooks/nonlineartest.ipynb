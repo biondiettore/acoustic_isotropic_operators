{
 "cells": [
  {
   "cell_type": "markdown",
   "metadata": {},
   "source": [
    "Import necessary modules"
   ]
  },
  {
   "cell_type": "code",
   "execution_count": 1,
   "metadata": {},
   "outputs": [],
   "source": [
    "import sys\n",
    "sys.path.append(\"/net/server/homes/sep/ettore/research/packages/acoustic_isotropic_operators/test/lib/python/\")\n",
    "import genericIO\n",
    "import SepVector\n",
    "import Hypercube\n",
    "import Acoustic_iso_double\n",
    "import numpy as np\n",
    "import time\n",
    "\n",
    "import pyVector"
   ]
  },
  {
   "cell_type": "markdown",
   "metadata": {},
   "source": [
    "Create wavelet and velocity model"
   ]
  },
  {
   "cell_type": "code",
   "execution_count": 2,
   "metadata": {},
   "outputs": [],
   "source": [
    "!Wavelet n1=1001 d1=0.004 fund=10. tdelay=1. wavelet=ricker2 | Add scale=-1. > wlt.H"
   ]
  },
  {
   "cell_type": "code",
   "execution_count": 3,
   "metadata": {},
   "outputs": [],
   "source": [
    "!Vel n1=560 d1=0.01 o1=0.0 n2=1904 d2=0.01 o2=0.0 n3=1 d3=0.01 o3=0.0 vc=2.0 | Pad beg1=5 end1=5 beg2=5 end2=5 > vel.H"
   ]
  },
  {
   "cell_type": "markdown",
   "metadata": {},
   "source": [
    "Now lets start up genericIO read the files into memory"
   ]
  },
  {
   "cell_type": "code",
   "execution_count": 4,
   "metadata": {},
   "outputs": [],
   "source": [
    "wavelet=genericIO.defaultIO.getVector(\"wlt.H\")"
   ]
  },
  {
   "cell_type": "code",
   "execution_count": 5,
   "metadata": {},
   "outputs": [],
   "source": [
    "velocity=genericIO.defaultIO.getVector(\"vel.H\")"
   ]
  },
  {
   "cell_type": "markdown",
   "metadata": {},
   "source": [
    "Lets make sure we've got got something reasonable\n"
   ]
  },
  {
   "cell_type": "code",
   "execution_count": 6,
   "metadata": {},
   "outputs": [
    {
     "name": "stdout",
     "output_type": "stream",
     "text": [
      "0.0\n"
     ]
    },
    {
     "data": {
      "image/png": "[encoded data removed]",
      "text/plain": [
       "<matplotlib.figure.Figure at 0x7f9548078b00>"
      ]
     },
     "metadata": {},
     "output_type": "display_data"
    }
   ],
   "source": [
    "%matplotlib inline  \n",
    "import matplotlib.pyplot as plt\n",
    "\n",
    "print(velocity.getNdArray().min())\n",
    "plt.imshow(velocity.getNdArray());"
   ]
  },
  {
   "cell_type": "code",
   "execution_count": 7,
   "metadata": {},
   "outputs": [],
   "source": [
    "params={\n",
    "\"nts\":1001,\n",
    "\"dts\":0.004,\n",
    "\"sub\":8,\n",
    "\"nz\":570,\n",
    "\"nx\":1914,\n",
    "\"zPadMinus\":100,\n",
    "\"zPadPlus\":110,\n",
    "\"xPadMinus\":100,\n",
    "\"xPadPlus\":104,\n",
    "\"dz\":0.01,\n",
    "\"dx\":0.01,\n",
    "\"fMax\":16,\n",
    "\"zSource\":10,\n",
    "\"xSource\":850,\n",
    "\"nShot\":50,\n",
    "\"spacingShots\":1,\n",
    "\"depthReceiver\":10,\n",
    "\"nReceiver\":1700,\n",
    "\"dReceiver\":1,\n",
    "\"oReceiver\":1,\n",
    "\"saveWavefield\":0,\n",
    "\"wavefieldShotNumber\":0,\n",
    "\"blockSize\":16,\n",
    "\"fat\":5,\n",
    "\"nGpu\":8}"
   ]
  },
  {
   "cell_type": "markdown",
   "metadata": {},
   "source": [
    "Converting the velocity into double."
   ]
  },
  {
   "cell_type": "code",
   "execution_count": 8,
   "metadata": {},
   "outputs": [],
   "source": [
    "hyper=velocity.getHyper()\n",
    "velDouble=SepVector.getSepVector(hyper,storage=\"dataDouble\")\n",
    "velDMat=velDouble.getNdArray()\n",
    "velSMat=velocity.getNdArray()\n",
    "\n",
    "for i2 in range(hyper.axes[1].n):\n",
    "    for i1 in range(hyper.axes[0].n):\n",
    "        velDMat[i2][i1]=velSMat[i2][i1]\n"
   ]
  },
  {
   "cell_type": "markdown",
   "metadata": {},
   "source": [
    "Creating source vector"
   ]
  },
  {
   "cell_type": "code",
   "execution_count": 9,
   "metadata": {},
   "outputs": [],
   "source": [
    "nzSource = 1;\n",
    "ozSource =params[\"zSource\"] - 1 + params[\"zPadMinus\"] + params[\"fat\"];\n",
    "dzSource = 1;\n",
    "nxSource = 1;\n",
    "oxSource =params[\"xSource\"] - 1 + params[\"xPadMinus\"] + params[\"fat\"];\n",
    "dxSource = 1;\n",
    "spacingShots = params[\"spacingShots\"]\n",
    "sourceVector=[]\n",
    "for ishot in range(params[\"nShot\"]):\n",
    "    sourceVector.append(Acoustic_iso_double.deviceGpu(nzSource, ozSource, dzSource, nxSource, oxSource, dxSource, velDouble.getCpp(), params[\"nts\"]))\n",
    "    oxSource = oxSource + spacingShots;"
   ]
  },
  {
   "cell_type": "markdown",
   "metadata": {},
   "source": [
    "Creating receiver vector"
   ]
  },
  {
   "cell_type": "code",
   "execution_count": 10,
   "metadata": {},
   "outputs": [],
   "source": [
    "nzReceiver = 1;\n",
    "ozReceiver = params[\"depthReceiver\"] - 1 + params[\"zPadMinus\"] + params[\"fat\"];\n",
    "dzReceiver = 1;\n",
    "nxReceiver = params[\"nReceiver\"]\n",
    "oxReceiver = params[\"oReceiver\"] - 1 + params[\"xPadMinus\"] + params[\"fat\"];\n",
    "dxReceiver = params[\"dReceiver\"];\n",
    "                    \n",
    "receiversVector=[]\n",
    "nRecGeom = 1;# Constant receivers' geometry\n",
    "for iRec in range(nRecGeom):\n",
    "    receiversVector.append(Acoustic_iso_double.deviceGpu(nzReceiver, ozReceiver, dzReceiver, nxReceiver, oxReceiver, dxReceiver, velDouble.getCpp(), params[\"nts\"]))\n"
   ]
  },
  {
   "cell_type": "markdown",
   "metadata": {},
   "source": [
    "Convert the wavelet to double and convert it into 3DHyper"
   ]
  },
  {
   "cell_type": "code",
   "execution_count": 11,
   "metadata": {},
   "outputs": [],
   "source": [
    "hyperTAxis=wavelet.getHyper().axes[0]\n",
    "dumbAxis=Hypercube.axis(n=1)\n",
    "modelHyper=Hypercube.hypercube(axes=[hyperTAxis,dumbAxis,dumbAxis])\n",
    "waveletD=SepVector.getSepVector(modelHyper,storage=\"dataDouble\")\n",
    "waveDMat=waveletD.getNdArray()\n",
    "waveSMat=wavelet.getNdArray()\n",
    "\n",
    "for i1 in range(hyperTAxis.n):\n",
    "    waveDMat[0][0][i1]=waveSMat[i1]"
   ]
  },
  {
   "cell_type": "markdown",
   "metadata": {},
   "source": [
    "Now let's setup the data"
   ]
  },
  {
   "cell_type": "code",
   "execution_count": 12,
   "metadata": {},
   "outputs": [],
   "source": [
    "receiverAxis=Hypercube.axis(n=nxReceiver, o=oxReceiver, d=dxReceiver)\n",
    "sourceAxis=Hypercube.axis(n=params[\"nShot\"], o=oxSource, d=dxSource)\n",
    "dataD=SepVector.getSepVector(Hypercube.hypercube(axes=[hyperTAxis,receiverAxis,sourceAxis]),storage=\"dataDouble\")\n",
    "data=SepVector.getSepVector(Hypercube.hypercube(axes=[hyperTAxis,receiverAxis,sourceAxis]),storage=\"dataFloat\")"
   ]
  },
  {
   "cell_type": "markdown",
   "metadata": {},
   "source": [
    "We will use a dictionary for all the other parameters that might be needed."
   ]
  },
  {
   "cell_type": "code",
   "execution_count": 13,
   "metadata": {},
   "outputs": [],
   "source": [
    "paramP=genericIO.pythonParams(params)"
   ]
  },
  {
   "cell_type": "markdown",
   "metadata": {},
   "source": [
    "Create simulation object"
   ]
  },
  {
   "cell_type": "code",
   "execution_count": 14,
   "metadata": {},
   "outputs": [],
   "source": [
    "# propagator=Acoustic_iso_double.nonlinearPropShotsGpu(waveletD,dataD,velDouble,paramP,sourceVector,receiversVector)"
   ]
  },
  {
   "cell_type": "code",
   "execution_count": 15,
   "metadata": {},
   "outputs": [],
   "source": [
    "# t0 = time.time()\n",
    "# propagator.forward(False, waveletD, dataD);\n",
    "# t1 = time.time()\n",
    "\n",
    "# total = t1-t0\n",
    "# print(total)"
   ]
  },
  {
   "cell_type": "markdown",
   "metadata": {},
   "source": [
    "Plotting data"
   ]
  },
  {
   "cell_type": "code",
   "execution_count": 16,
   "metadata": {},
   "outputs": [],
   "source": [
    "# %matplotlib inline  \n",
    "# import matplotlib.pyplot as plt\n",
    "# data = np.reshape(dataD.getNdArray()[0,:,:],(1700,1001))\n",
    "# plt.imshow(data.T);"
   ]
  },
  {
   "cell_type": "markdown",
   "metadata": {},
   "source": [
    "Dot-product test of propagator operator"
   ]
  },
  {
   "cell_type": "code",
   "execution_count": 17,
   "metadata": {},
   "outputs": [],
   "source": [
    "# propagator.dotTest(True)"
   ]
  },
  {
   "cell_type": "markdown",
   "metadata": {},
   "source": [
    "Testing Born operator"
   ]
  },
  {
   "cell_type": "code",
   "execution_count": 18,
   "metadata": {},
   "outputs": [],
   "source": [
    "#Converting the wavelet from a 3DReg to a list of 2DReg\n",
    "hyperTAxis=wavelet.getHyper().axes[0]\n",
    "dumbAxis=Hypercube.axis(n=1)\n",
    "modelHyper=Hypercube.hypercube(axes=[hyperTAxis,dumbAxis])\n",
    "waveletDBorn=SepVector.getSepVector(modelHyper,storage=\"dataDouble\")\n",
    "waveDBornNp=np.array(waveletDBorn.getCpp(),copy=False)\n",
    "waveDNp=np.array(waveletD.getCpp(),copy=False)\n",
    "waveDBornNp[0,:]=waveDNp[0,0,:]\n",
    "waveletDBorn=[waveletDBorn]\n",
    "\n",
    "born_op=Acoustic_iso_double.BornShotsGpu(velDouble,dataD,velDouble,paramP,sourceVector,waveletDBorn,receiversVector)"
   ]
  },
  {
   "cell_type": "markdown",
   "metadata": {},
   "source": [
    "Dot-product test for Born operator"
   ]
  },
  {
   "cell_type": "code",
   "execution_count": 19,
   "metadata": {},
   "outputs": [],
   "source": [
    "# born_op.dotTest(True)\n",
    "del born_op"
   ]
  },
  {
   "cell_type": "markdown",
   "metadata": {},
   "source": [
    "Generating Born data to be inverted"
   ]
  },
  {
   "cell_type": "code",
   "execution_count": 20,
   "metadata": {},
   "outputs": [],
   "source": [
    "#Creating background model\n",
    "!Pad <velocityMarmousi.H beg1=105 end1=105 beg2=102 end2=102 extend=1 | Pad beg1=5 end1=5 beg2=5 end2=5 > velocityMarmousi.pad.H\n",
    "!Smooth <velocityMarmousi.pad.H rect1=5 rect2=5 repeat=3 > background.pad.H\n",
    "#Creating reflectivity\n",
    "!Add velocityMarmousi.pad.H background.pad.H scale=1,-1 > reflectivity.pad.H"
   ]
  },
  {
   "cell_type": "code",
   "execution_count": 21,
   "metadata": {},
   "outputs": [
    {
     "data": {
      "text/plain": [
       "2962.464599609375"
      ]
     },
     "execution_count": 21,
     "metadata": {},
     "output_type": "execute_result"
    }
   ],
   "source": [
    "#Reading necessary files\n",
    "background=genericIO.defaultIO.getVector(\"background.pad.H\")\n",
    "reflectivity=genericIO.defaultIO.getVector(\"reflectivity.pad.H\")\n",
    "#Converting to Double precision\n",
    "backgroundD=SepVector.getSepVector(background.getHyper(),storage=\"dataDouble\")\n",
    "backgroundDNp=np.array(backgroundD.getCpp(),copy=False)\n",
    "backgroundSNp=np.array(background.getCpp(),copy=False)\n",
    "backgroundDNp[:]=backgroundSNp\n",
    "\n",
    "reflectivityD=SepVector.getSepVector(reflectivity.getHyper(),storage=\"dataDouble\")\n",
    "reflectivityDNp=np.array(reflectivityD.getCpp(),copy=False)\n",
    "reflectivitySNp=np.array(reflectivity.getCpp(),copy=False)\n",
    "reflectivityDNp[:]=reflectivitySNp\n",
    "\n",
    "backgroundD.norm(2)"
   ]
  },
  {
   "cell_type": "code",
   "execution_count": 22,
   "metadata": {},
   "outputs": [],
   "source": [
    "born_op=Acoustic_iso_double.BornShotsGpu(reflectivityD,dataD,backgroundD,paramP,sourceVector,waveletDBorn,receiversVector)\n"
   ]
  },
  {
   "cell_type": "code",
   "execution_count": 23,
   "metadata": {},
   "outputs": [],
   "source": [
    "born_op.forward(False,reflectivityD,dataD)"
   ]
  },
  {
   "cell_type": "code",
   "execution_count": 24,
   "metadata": {},
   "outputs": [
    {
     "data": {
      "image/png": "[encoded data removed]",
      "text/plain": [
       "<matplotlib.figure.Figure at 0x7f952ca1a588>"
      ]
     },
     "metadata": {},
     "output_type": "display_data"
    }
   ],
   "source": [
    "%matplotlib inline  \n",
    "import matplotlib.pyplot as plt\n",
    "data = np.reshape(dataD.getNdArray()[0,:,:],(1700,1001))\n",
    "plt.imshow(data.T);"
   ]
  },
  {
   "cell_type": "markdown",
   "metadata": {},
   "source": [
    "Inversion of Born Data"
   ]
  },
  {
   "cell_type": "code",
   "execution_count": 25,
   "metadata": {},
   "outputs": [],
   "source": [
    "import pyLCGsolver as LCG\n",
    "import pyProblem as Prblm\n",
    "import pyStopperBase as Stopper"
   ]
  },
  {
   "cell_type": "code",
   "execution_count": 26,
   "metadata": {},
   "outputs": [
    {
     "name": "stdout",
     "output_type": "stream",
     "text": [
      "LINEAR CONJUGATE GRADIENT SOLVER\n",
      "Restart folder: /tmp/restart_2019-01-07T11-19-17.788748/\n",
      "\n"
     ]
    },
    {
     "ename": "TypeError",
     "evalue": "norm() missing 1 required positional argument: 'nrm'",
     "output_type": "error",
     "traceback": [
      "\u001b[0;31m---------------------------------------------------------------------------\u001b[0m",
      "\u001b[0;31mTypeError\u001b[0m                                 Traceback (most recent call last)",
      "\u001b[0;32m<ipython-input-26-7b6ee10f347e>\u001b[0m in \u001b[0;36m<module>\u001b[0;34m()\u001b[0m\n\u001b[1;32m     10\u001b[0m \u001b[0mLCGsolver\u001b[0m\u001b[0;34m.\u001b[0m\u001b[0msetDefaults\u001b[0m\u001b[0;34m(\u001b[0m\u001b[0miter_buffer\u001b[0m\u001b[0;34m=\u001b[0m\u001b[0;32mNone\u001b[0m\u001b[0;34m,\u001b[0m\u001b[0miter_sampling\u001b[0m\u001b[0;34m=\u001b[0m\u001b[0;36m10\u001b[0m\u001b[0;34m)\u001b[0m\u001b[0;34m\u001b[0m\u001b[0m\n\u001b[1;32m     11\u001b[0m \u001b[0;31m#Running the solver\u001b[0m\u001b[0;34m\u001b[0m\u001b[0;34m\u001b[0m\u001b[0m\n\u001b[0;32m---> 12\u001b[0;31m \u001b[0mLCGsolver\u001b[0m\u001b[0;34m.\u001b[0m\u001b[0mrun\u001b[0m\u001b[0;34m(\u001b[0m\u001b[0mL2Prob\u001b[0m\u001b[0;34m)\u001b[0m\u001b[0;34m\u001b[0m\u001b[0m\n\u001b[0m",
      "\u001b[0;32m/net/server/homes/sep/ettore/research/packages/acoustic_isotropic_operators/test/lib/python/pyLCGsolver.py\u001b[0m in \u001b[0;36mrun\u001b[0;34m(self, prblm, verbose, restart)\u001b[0m\n\u001b[1;32m     76\u001b[0m                                 \u001b[0;31m#Saving objective function value\u001b[0m\u001b[0;34m\u001b[0m\u001b[0;34m\u001b[0m\u001b[0m\n\u001b[1;32m     77\u001b[0m                                 \u001b[0mself\u001b[0m\u001b[0;34m.\u001b[0m\u001b[0mrestart\u001b[0m\u001b[0;34m.\u001b[0m\u001b[0msave_parameter\u001b[0m\u001b[0;34m(\u001b[0m\u001b[0;34m\"obj_initial\"\u001b[0m\u001b[0;34m,\u001b[0m\u001b[0minitial_obj_value\u001b[0m\u001b[0;34m)\u001b[0m\u001b[0;34m\u001b[0m\u001b[0m\n\u001b[0;32m---> 78\u001b[0;31m                                 \u001b[0mmsg\u001b[0m \u001b[0;34m=\u001b[0m \u001b[0;34m\"iter = %s obj = %s residual norm = %s gradient norm= %s feval = %s\"\u001b[0m\u001b[0;34m%\u001b[0m\u001b[0;34m(\u001b[0m\u001b[0miter\u001b[0m\u001b[0;34m,\u001b[0m\u001b[0mobj0\u001b[0m\u001b[0;34m,\u001b[0m\u001b[0mprblm_res\u001b[0m\u001b[0;34m.\u001b[0m\u001b[0mnorm\u001b[0m\u001b[0;34m(\u001b[0m\u001b[0;34m)\u001b[0m\u001b[0;34m,\u001b[0m\u001b[0mprblm_grad\u001b[0m\u001b[0;34m.\u001b[0m\u001b[0mnorm\u001b[0m\u001b[0;34m(\u001b[0m\u001b[0;34m)\u001b[0m\u001b[0;34m,\u001b[0m\u001b[0mprblm\u001b[0m\u001b[0;34m.\u001b[0m\u001b[0mget_fevals\u001b[0m\u001b[0;34m(\u001b[0m\u001b[0;34m)\u001b[0m\u001b[0;34m)\u001b[0m\u001b[0;34m\u001b[0m\u001b[0m\n\u001b[0m\u001b[1;32m     79\u001b[0m                                 \u001b[0;32mif\u001b[0m\u001b[0;34m(\u001b[0m\u001b[0mverbose\u001b[0m\u001b[0;34m)\u001b[0m\u001b[0;34m:\u001b[0m \u001b[0mprint\u001b[0m\u001b[0;34m(\u001b[0m\u001b[0mmsg\u001b[0m\u001b[0;34m)\u001b[0m\u001b[0;34m\u001b[0m\u001b[0m\n\u001b[1;32m     80\u001b[0m                                 \u001b[0;31m#Writing on log file\u001b[0m\u001b[0;34m\u001b[0m\u001b[0;34m\u001b[0m\u001b[0m\n",
      "\u001b[0;31mTypeError\u001b[0m: norm() missing 1 required positional argument: 'nrm'"
     ]
    }
   ],
   "source": [
    "#Create L2-norm linear problem\n",
    "model_vec = reflectivityD.clone()\n",
    "model_vec.zero()\n",
    "L2Prob = Prblm.ProblemL2Linear(model_vec,dataD,born_op)\n",
    "#Create stopper\n",
    "niter = 10\n",
    "Stop  = Stopper.BasicStopper(niter=niter)\n",
    "#Create solver\n",
    "LCGsolver = LCG.LCGsolver(Stop)\n",
    "LCGsolver.setDefaults(iter_buffer=None,iter_sampling=10)\n",
    "#Running the solver\n",
    "LCGsolver.run(L2Prob)"
   ]
  }
 ],
 "metadata": {
  "kernelspec": {
   "display_name": "Python 3",
   "language": "python",
   "name": "python3"
  },
  "language_info": {
   "codemirror_mode": {
    "name": "ipython",
    "version": 3
   },
   "file_extension": ".py",
   "mimetype": "text/x-python",
   "name": "python",
   "nbconvert_exporter": "python",
   "pygments_lexer": "ipython3",
   "version": "3.5.2"
  }
 },
 "nbformat": 4,
 "nbformat_minor": 2
}
